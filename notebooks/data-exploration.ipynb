{
 "cells": [
  {
   "cell_type": "code",
   "execution_count": 10,
   "metadata": {},
   "outputs": [],
   "source": [
    "# try everything here\n",
    "import sys\n",
    "import networkx as nx # type: ignore\n",
    "import graphviz\n",
    "import pandas as pd\n",
    "import matplotlib.pyplot as plt\n",
    "import seaborn as sns\n",
    "import numpy as np\n",
    "from dowhy import CausalModel\n",
    "import statsmodels.formula.api as smf\n",
    "\n",
    "sys.path.append('../')\n",
    "from src.data.make_dataset import load_data, merge_all_datasets\n",
    "from src.data.preprocess import preprocessing\n",
    "\n",
    "pd.set_option('display.max_columns', None)\n",
    "pd.set_option('display.max_rows', None)"
   ]
  },
  {
   "cell_type": "code",
   "execution_count": 11,
   "metadata": {},
   "outputs": [],
   "source": [
    "# Loading Data\n",
    "data_dict = load_data()\n",
    "\n",
    "olist_customers_df = data_dict['olist_customers_df']\n",
    "olist_geolocation_df = data_dict['olist_geolocation_df']\n",
    "olist_order_items_df = data_dict['olist_order_items_df']\n",
    "olist_order_payments_df = data_dict['olist_order_payments_df']\n",
    "olist_order_reviews_df = data_dict['olist_order_reviews_df']\n",
    "olist_orders_df = data_dict['olist_orders_df']\n",
    "olist_products_df = data_dict['olist_products_df']\n",
    "olist_sellers_df = data_dict['olist_sellers_df']\n",
    "product_category_name_translation_df = data_dict['product_category_name_translation_df']\n",
    "\n",
    "olist_closed_deals_df = data_dict['olist_closed_deals_df']\n",
    "olist_marketing_qualified_leads_df = data_dict['olist_marketing_qualified_leads_df']"
   ]
  },
  {
   "cell_type": "code",
   "execution_count": 12,
   "metadata": {},
   "outputs": [],
   "source": [
    "df = merge_all_datasets(olist_customers_df, \n",
    "                       olist_geolocation_df,\n",
    "                       olist_order_items_df,\n",
    "                       olist_order_payments_df,\n",
    "                       olist_order_reviews_df, \n",
    "                       olist_orders_df,\n",
    "                       olist_products_df, \n",
    "                       olist_sellers_df\n",
    "                       )"
   ]
  },
  {
   "cell_type": "code",
   "execution_count": 13,
   "metadata": {},
   "outputs": [],
   "source": [
    "rainfall_categories = {\n",
    "    'North': {1: 'High', 2: 'High', 3: 'High', 4: 'Moderate', 5: 'Moderate', 6: 'Low', 7: 'Low', 8: 'Low', 9: 'Moderate', 10: 'Moderate', 11: 'High', 12: 'High'},\n",
    "    'Northeast': {1: 'Low', 2: 'Moderate', 3: 'Moderate', 4: 'High', 5: 'High', 6: 'Moderate', 7: 'Low', 8: 'Low', 9: 'Low', 10: 'Moderate', 11: 'Moderate', 12: 'High'},\n",
    "    'Central-West': {1: 'High', 2: 'High', 3: 'High', 4: 'Moderate', 5: 'Low', 6: 'Low', 7: 'Low', 8: 'Low', 9: 'Low', 10: 'Moderate', 11: 'High', 12: 'High'},\n",
    "    'Southeast': {1: 'High', 2: 'High', 3: 'Moderate', 4: 'Moderate', 5: 'Low', 6: 'Low', 7: 'Low', 8: 'Low', 9: 'Moderate', 10: 'Moderate', 11: 'High', 12: 'High'},\n",
    "    'South': {1: 'Moderate', 2: 'Moderate', 3: 'Moderate', 4: 'Moderate', 5: 'Moderate', 6: 'Low', 7: 'Low', 8: 'Low', 9: 'Moderate', 10: 'Moderate', 11: 'Moderate', 12: 'High'}\n",
    "}\n",
    "\n",
    "state_to_region = {\n",
    "    'AC': 'North', 'AP': 'North', 'AM': 'North', 'PA': 'North', 'RO': 'North', 'RR': 'North', 'TO': 'North',\n",
    "    'AL': 'Northeast', 'BA': 'Northeast', 'CE': 'Northeast', 'MA': 'Northeast', 'PB': 'Northeast', 'PE': 'Northeast', 'PI': 'Northeast', 'RN': 'Northeast', 'SE': 'Northeast',\n",
    "    'GO': 'Central-West', 'MT': 'Central-West', 'MS': 'Central-West', 'DF': 'Central-West',\n",
    "    'ES': 'Southeast', 'MG': 'Southeast', 'RJ': 'Southeast', 'SP': 'Southeast',\n",
    "    'PR': 'South', 'RS': 'South', 'SC': 'South'\n",
    "}\n",
    "\n",
    "\n",
    "def get_rainfall_category(region, month):\n",
    "\n",
    "    rainfall_categories = {\n",
    "    'North': {1: 'High', 2: 'High', 3: 'High', 4: 'Moderate', 5: 'Moderate', 6: 'Low', 7: 'Low', 8: 'Low', 9: 'Moderate', 10: 'Moderate', 11: 'High', 12: 'High'},\n",
    "    'Northeast': {1: 'Low', 2: 'Moderate', 3: 'Moderate', 4: 'High', 5: 'High', 6: 'Moderate', 7: 'Low', 8: 'Low', 9: 'Low', 10: 'Moderate', 11: 'Moderate', 12: 'High'},\n",
    "    'Central-West': {1: 'High', 2: 'High', 3: 'High', 4: 'Moderate', 5: 'Low', 6: 'Low', 7: 'Low', 8: 'Low', 9: 'Low', 10: 'Moderate', 11: 'High', 12: 'High'},\n",
    "    'Southeast': {1: 'High', 2: 'High', 3: 'Moderate', 4: 'Moderate', 5: 'Low', 6: 'Low', 7: 'Low', 8: 'Low', 9: 'Moderate', 10: 'Moderate', 11: 'High', 12: 'High'},\n",
    "    'South': {1: 'Moderate', 2: 'Moderate', 3: 'Moderate', 4: 'Moderate', 5: 'Moderate', 6: 'Low', 7: 'Low', 8: 'Low', 9: 'Moderate', 10: 'Moderate', 11: 'Moderate', 12: 'High'}\n",
    "    }\n",
    "\n",
    "    return rainfall_categories.get(region).get(month, 'Unknown')\n"
   ]
  },
  {
   "cell_type": "code",
   "execution_count": 7,
   "metadata": {},
   "outputs": [],
   "source": [
    "final_df = preprocessing(df=df, state_to_region=state_to_region)"
   ]
  },
  {
   "cell_type": "code",
   "execution_count": 9,
   "metadata": {},
   "outputs": [],
   "source": [
    "# final_df.rename(columns={\n",
    "#     'seasonality': 'season',\n",
    "#     'review_score': 'Rating',\n",
    "#     'rainfall': 'region'\n",
    "    \n",
    "# }, inplace=True)"
   ]
  },
  {
   "cell_type": "code",
   "execution_count": 8,
   "metadata": {},
   "outputs": [],
   "source": [
    "df_final = final_df[['order_id', \n",
    "               'payment_value', \n",
    "               'Rating',\n",
    "               'region', \n",
    "               'Product_weight_kg', \n",
    "               'distance_km',\n",
    "               'Product_category', \n",
    "               'Product_size', \n",
    "               'No_photos',\n",
    "               'Product_price', \n",
    "               'season', \n",
    "               'is_delivery_late',\n",
    "               'Product_price',\n",
    "               'freight_value']]"
   ]
  },
  {
   "cell_type": "code",
   "execution_count": 263,
   "metadata": {},
   "outputs": [
    {
     "name": "stderr",
     "output_type": "stream",
     "text": [
      "/var/folders/7s/18428v6x0c9g1ltv9g71gm1h0000gn/T/ipykernel_44357/2538155937.py:6: SettingWithCopyWarning: \n",
      "A value is trying to be set on a copy of a slice from a DataFrame.\n",
      "Try using .loc[row_indexer,col_indexer] = value instead\n",
      "\n",
      "See the caveats in the documentation: https://pandas.pydata.org/pandas-docs/stable/user_guide/indexing.html#returning-a-view-versus-a-copy\n",
      "  df_final['Product_category_encoded'] = le.fit_transform(df_final['Product_category'])\n"
     ]
    }
   ],
   "source": [
    "from sklearn.preprocessing import LabelEncoder\n",
    "\n",
    "le  = LabelEncoder()\n",
    "\n",
    "\n",
    "df_final['Product_category_encoded'] = le.fit_transform(df_final['Product_category']) \n"
   ]
  },
  {
   "cell_type": "code",
   "execution_count": 265,
   "metadata": {},
   "outputs": [],
   "source": [
    "df_final.to_csv(\"../data/processed/data.csv\", index=False)"
   ]
  },
  {
   "cell_type": "code",
   "execution_count": null,
   "metadata": {},
   "outputs": [],
   "source": [
    "# customer_previous_score: better name would be customer_avg_score?\n",
    "# There should be no capital letters on column names; convention\n",
    "# let's make sure variable names are easy to understand; not sure what \"rainfall\" would mean if I had not contenxt"
   ]
  }
 ],
 "metadata": {
  "kernelspec": {
   "display_name": "venv",
   "language": "python",
   "name": "python3"
  },
  "language_info": {
   "codemirror_mode": {
    "name": "ipython",
    "version": 3
   },
   "file_extension": ".py",
   "mimetype": "text/x-python",
   "name": "python",
   "nbconvert_exporter": "python",
   "pygments_lexer": "ipython3",
   "version": "3.9.6"
  }
 },
 "nbformat": 4,
 "nbformat_minor": 2
}
