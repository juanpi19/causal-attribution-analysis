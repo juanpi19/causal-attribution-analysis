{
 "cells": [
  {
   "cell_type": "code",
   "execution_count": 2,
   "metadata": {},
   "outputs": [],
   "source": [
    "# try everything here\n",
    "import sys\n",
    "import networkx as nx # type: ignore\n",
    "import graphviz\n",
    "import pandas as pd\n",
    "import matplotlib.pyplot as plt\n",
    "import seaborn as sns\n",
    "import numpy as np\n",
    "from dowhy import CausalModel\n",
    "import statsmodels.formula.api as smf\n",
    "\n",
    "sys.path.append('../')\n",
    "from src.data.make_dataset import load_data, merge_all_datasets\n",
    "from src.data.preprocess import preprocessing\n",
    "\n",
    "# pd.set_option('display.max_columns', None)\n",
    "# pd.set_option('display.max_rows', None)"
   ]
  },
  {
   "cell_type": "code",
   "execution_count": 3,
   "metadata": {},
   "outputs": [],
   "source": [
    "# Loading Data\n",
    "data_dict = load_data()\n",
    "olist_customers_df = data_dict['olist_customers_df']\n",
    "olist_geolocation_df = data_dict['olist_geolocation_df']\n",
    "olist_order_items_df = data_dict['olist_order_items_df']\n",
    "olist_order_payments_df = data_dict['olist_order_payments_df']\n",
    "olist_order_reviews_df = data_dict['olist_order_reviews_df']\n",
    "olist_orders_df = data_dict['olist_orders_df']\n",
    "olist_products_df = data_dict['olist_products_df']\n",
    "olist_sellers_df = data_dict['olist_sellers_df']\n",
    "product_category_name_translation_df = data_dict['product_category_name_translation_df']\n",
    "olist_closed_deals_df = data_dict['olist_closed_deals_df']\n",
    "olist_marketing_qualified_leads_df = data_dict['olist_marketing_qualified_leads_df']\n",
    "\n",
    "df = merge_all_datasets(olist_customers_df, \n",
    "                       olist_geolocation_df,\n",
    "                       olist_order_items_df,\n",
    "                       olist_order_payments_df,\n",
    "                       olist_order_reviews_df, \n",
    "                       olist_orders_df,\n",
    "                       olist_products_df, \n",
    "                       olist_sellers_df\n",
    "                       )"
   ]
  },
  {
   "cell_type": "code",
   "execution_count": 25,
   "metadata": {},
   "outputs": [
    {
     "data": {
      "text/plain": [
       "Index(['order_id', 'customer_id', 'order_status', 'order_purchase_timestamp',\n",
       "       'order_approved_at', 'order_delivered_carrier_date',\n",
       "       'order_delivered_customer_date', 'order_estimated_delivery_date',\n",
       "       'order_item_id', 'product_id', 'seller_id', 'shipping_limit_date',\n",
       "       'price', 'freight_value', 'payment_sequential', 'payment_type',\n",
       "       'payment_installments', 'payment_value', 'review_id', 'review_score',\n",
       "       'review_comment_title', 'review_comment_message',\n",
       "       'review_creation_date', 'review_answer_timestamp',\n",
       "       'product_category_name', 'product_name_lenght',\n",
       "       'product_description_lenght', 'product_photos_qty', 'product_weight_g',\n",
       "       'product_length_cm', 'product_height_cm', 'product_width_cm',\n",
       "       'customer_unique_id', 'customer_zip_code_prefix', 'customer_city',\n",
       "       'customer_state', 'seller_zip_code_prefix', 'seller_city',\n",
       "       'seller_state', 'geolocation_zip_code_prefix_x', 'geolocation_lat_x',\n",
       "       'geolocation_lng_x', 'geolocation_city_x', 'geolocation_state_x',\n",
       "       'geolocation_zip_code_prefix_y', 'geolocation_lat_y',\n",
       "       'geolocation_lng_y', 'geolocation_city_y', 'geolocation_state_y'],\n",
       "      dtype='object')"
      ]
     },
     "execution_count": 25,
     "metadata": {},
     "output_type": "execute_result"
    }
   ],
   "source": [
    "df.columns"
   ]
  },
  {
   "cell_type": "code",
   "execution_count": 4,
   "metadata": {},
   "outputs": [],
   "source": [
    "rainfall_categories = {\n",
    "    'North': {1: 'High', 2: 'High', 3: 'High', 4: 'Moderate', 5: 'Moderate', 6: 'Low', 7: 'Low', 8: 'Low', 9: 'Moderate', 10: 'Moderate', 11: 'High', 12: 'High'},\n",
    "    'Northeast': {1: 'Low', 2: 'Moderate', 3: 'Moderate', 4: 'High', 5: 'High', 6: 'Moderate', 7: 'Low', 8: 'Low', 9: 'Low', 10: 'Moderate', 11: 'Moderate', 12: 'High'},\n",
    "    'Central-West': {1: 'High', 2: 'High', 3: 'High', 4: 'Moderate', 5: 'Low', 6: 'Low', 7: 'Low', 8: 'Low', 9: 'Low', 10: 'Moderate', 11: 'High', 12: 'High'},\n",
    "    'Southeast': {1: 'High', 2: 'High', 3: 'Moderate', 4: 'Moderate', 5: 'Low', 6: 'Low', 7: 'Low', 8: 'Low', 9: 'Moderate', 10: 'Moderate', 11: 'High', 12: 'High'},\n",
    "    'South': {1: 'Moderate', 2: 'Moderate', 3: 'Moderate', 4: 'Moderate', 5: 'Moderate', 6: 'Low', 7: 'Low', 8: 'Low', 9: 'Moderate', 10: 'Moderate', 11: 'Moderate', 12: 'High'}\n",
    "}\n",
    "\n",
    "state_to_region = {\n",
    "    'AC': 'North', 'AP': 'North', 'AM': 'North', 'PA': 'North', 'RO': 'North', 'RR': 'North', 'TO': 'North',\n",
    "    'AL': 'Northeast', 'BA': 'Northeast', 'CE': 'Northeast', 'MA': 'Northeast', 'PB': 'Northeast', 'PE': 'Northeast', 'PI': 'Northeast', 'RN': 'Northeast', 'SE': 'Northeast',\n",
    "    'GO': 'Central-West', 'MT': 'Central-West', 'MS': 'Central-West', 'DF': 'Central-West',\n",
    "    'ES': 'Southeast', 'MG': 'Southeast', 'RJ': 'Southeast', 'SP': 'Southeast',\n",
    "    'PR': 'South', 'RS': 'South', 'SC': 'South'\n",
    "}\n",
    "\n",
    "\n",
    "def get_rainfall_category(region, month):\n",
    "\n",
    "    rainfall_categories = {\n",
    "    'North': {1: 'High', 2: 'High', 3: 'High', 4: 'Moderate', 5: 'Moderate', 6: 'Low', 7: 'Low', 8: 'Low', 9: 'Moderate', 10: 'Moderate', 11: 'High', 12: 'High'},\n",
    "    'Northeast': {1: 'Low', 2: 'Moderate', 3: 'Moderate', 4: 'High', 5: 'High', 6: 'Moderate', 7: 'Low', 8: 'Low', 9: 'Low', 10: 'Moderate', 11: 'Moderate', 12: 'High'},\n",
    "    'Central-West': {1: 'High', 2: 'High', 3: 'High', 4: 'Moderate', 5: 'Low', 6: 'Low', 7: 'Low', 8: 'Low', 9: 'Low', 10: 'Moderate', 11: 'High', 12: 'High'},\n",
    "    'Southeast': {1: 'High', 2: 'High', 3: 'Moderate', 4: 'Moderate', 5: 'Low', 6: 'Low', 7: 'Low', 8: 'Low', 9: 'Moderate', 10: 'Moderate', 11: 'High', 12: 'High'},\n",
    "    'South': {1: 'Moderate', 2: 'Moderate', 3: 'Moderate', 4: 'Moderate', 5: 'Moderate', 6: 'Low', 7: 'Low', 8: 'Low', 9: 'Moderate', 10: 'Moderate', 11: 'Moderate', 12: 'High'}\n",
    "    }\n",
    "\n",
    "    return rainfall_categories.get(region).get(month, 'Unknown')\n"
   ]
  },
  {
   "cell_type": "code",
   "execution_count": 5,
   "metadata": {},
   "outputs": [
    {
     "name": "stderr",
     "output_type": "stream",
     "text": [
      "/var/folders/7s/18428v6x0c9g1ltv9g71gm1h0000gn/T/ipykernel_18551/1700426426.py:2: SettingWithCopyWarning: \n",
      "A value is trying to be set on a copy of a slice from a DataFrame\n",
      "\n",
      "See the caveats in the documentation: https://pandas.pydata.org/pandas-docs/stable/user_guide/indexing.html#returning-a-view-versus-a-copy\n",
      "  final_df.rename(columns={'seasonality': 'season', 'review_score': 'Rating','rainfall': 'region'}, inplace=True)\n"
     ]
    }
   ],
   "source": [
    "final_df = preprocessing(df=df, state_to_region=state_to_region)\n",
    "final_df.rename(columns={'seasonality': 'season', 'review_score': 'Rating','rainfall': 'region'}, inplace=True)"
   ]
  },
  {
   "cell_type": "code",
   "execution_count": 7,
   "metadata": {},
   "outputs": [],
   "source": [
    "df_final = final_df[['order_id',\n",
    "                'customer_id',\n",
    "                'customer_unique_id', \n",
    "               'payment_value', \n",
    "               'Rating',\n",
    "               'region', \n",
    "               'Product_weight_kg', \n",
    "               'distance_km',\n",
    "               'Product_category', \n",
    "               'Product_size', \n",
    "               'No_photos',\n",
    "               'Product_price', \n",
    "               'season', \n",
    "               'is_delivery_late',\n",
    "               'Product_price',\n",
    "               'freight_value',\n",
    "               'Product_category_encoded',\n",
    "               'late_delivery_in_days',\n",
    "               'order_purchase_timestamp']]"
   ]
  },
  {
   "cell_type": "code",
   "execution_count": 8,
   "metadata": {},
   "outputs": [],
   "source": [
    "df_final.to_csv(\"../data/processed/data.csv\", index=False)"
   ]
  },
  {
   "cell_type": "code",
   "execution_count": null,
   "metadata": {},
   "outputs": [],
   "source": []
  }
 ],
 "metadata": {
  "kernelspec": {
   "display_name": "venv",
   "language": "python",
   "name": "python3"
  },
  "language_info": {
   "codemirror_mode": {
    "name": "ipython",
    "version": 3
   },
   "file_extension": ".py",
   "mimetype": "text/x-python",
   "name": "python",
   "nbconvert_exporter": "python",
   "pygments_lexer": "ipython3",
   "version": "3.9.6"
  }
 },
 "nbformat": 4,
 "nbformat_minor": 2
}
