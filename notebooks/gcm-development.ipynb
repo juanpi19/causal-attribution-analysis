{
 "cells": [
  {
   "cell_type": "code",
   "execution_count": 10,
   "metadata": {},
   "outputs": [],
   "source": [
    "import sys\n",
    "\n",
    "import pandas as pd # type: ignore\n",
    "import numpy as np # type: ignore\n",
    "from scipy import stats\n",
    "\n",
    "import matplotlib.pyplot as plt # type: ignore\n",
    "import seaborn as sns # type: ignore\n",
    "\n",
    "import networkx as nx # type: ignore\n",
    "import graphviz # type: ignore\n",
    "\n",
    "import statsmodels.formula.api as smf # type: ignore\n",
    "import statsmodels.api # type: ignore\n",
    "from statsmodels.miscmodels.ordinal_model import OrderedModel # type: ignore\n",
    "\n",
    "from dowhy import CausalModel, gcm # type: ignore\n",
    "from dowhy.gcm import AdditiveNoiseModel\n",
    "from dowhy.gcm.shapley import ShapleyConfig, ShapleyApproximationMethods # type: ignore\n",
    "\n",
    "from sklearn.ensemble import RandomForestClassifier, GradientBoostingClassifier\n",
    "from sklearn.model_selection import train_test_split, GridSearchCV, StratifiedKFold\n",
    "from sklearn.metrics import f1_score, classification_report\n",
    "\n",
    "import warnings\n",
    "warnings.filterwarnings(\"ignore\")"
   ]
  },
  {
   "cell_type": "code",
   "execution_count": 11,
   "metadata": {},
   "outputs": [],
   "source": [
    "df = pd.read_csv(\"../data/processed/data.csv\")"
   ]
  },
  {
   "cell_type": "code",
   "execution_count": 12,
   "metadata": {},
   "outputs": [],
   "source": [
    "# Impute missing values\n",
    "df.rename(columns={'Product_price': 'revenue'}, inplace=True) \n",
    "df['Product_price'] = df['revenue'] + df['freight_value']\n",
    "df['Product_weight_kg'] = df['Product_weight_kg'].fillna(df['Product_weight_kg'].mean())\n",
    "df['distance_km'] = df['distance_km'].fillna(df['distance_km'].mean())\n",
    "df['Product_size'] = df['Product_size'].fillna(df['Product_size'].mean())\n",
    "# df['customer_avg_score'] = df['customer_avg_score'].fillna(df['customer_avg_score'].mean())\n",
    "df['No_photos'] = df['No_photos'].fillna(df['No_photos'].mean())\n",
    "df['Product_price'] = df['Product_price'].fillna(df['Product_price'].mean())\n",
    "df['freight_value'] = df['freight_value'].fillna(df['freight_value'].mean())\n",
    "df['Rating'] = df['Rating'].fillna(df['Rating'].mean())\n",
    "df['Rating'] = df['Rating'].round()\n",
    "df['Product_category'] = df['Product_category'].fillna(df['Product_category'].mode()[0])\n",
    "df['revenue'] = df['revenue'].fillna(df['revenue'].mean())"
   ]
  },
  {
   "cell_type": "markdown",
   "metadata": {},
   "source": [
    "**DAG**"
   ]
  },
  {
   "cell_type": "code",
   "execution_count": 14,
   "metadata": {},
   "outputs": [],
   "source": [
    "mapping_dict = {'Rating': 'discrete',\n",
    "                'Product_category_encoded': 'categorical',\n",
    "                'freight_value': 'continuous',\n",
    "                'distance_km': 'continuous' ,\n",
    "                'season': 'categorical' ,\n",
    "                'is_delivery_late': 'categorical'}\n",
    "\n",
    "# nodes\n",
    "nodes_list = [\n",
    "'Rating',\n",
    "'Product_category_encoded',\n",
    "'freight_value',\n",
    "'distance_km',\n",
    "'season',\n",
    "'is_delivery_late'\n",
    "]\n",
    "# edges\n",
    "edges_list = [\n",
    "    ('season', 'Rating'),\n",
    "    ('season', 'is_delivery_late'),\n",
    "    ('season', 'Product_category_encoded'),\n",
    "    ('is_delivery_late', 'Rating'),\n",
    "    ('Product_category_encoded', 'is_delivery_late'),\n",
    "    ('Product_category_encoded', 'Rating'),\n",
    "    ('Product_category_encoded', 'freight_value'),\n",
    "    ('Product_category_encoded', 'Rating'),\n",
    "    ('freight_value', 'is_delivery_late'),\n",
    "    ('freight_value', 'Rating'),\n",
    "    ('distance_km', 'freight_value'),\n",
    "    ('distance_km', 'Rating'),\n",
    "]\n",
    "\n",
    "# Graph\n",
    "G = nx.DiGraph()\n",
    "G.add_nodes_from(nodes_list)\n",
    "G.add_edges_from(edges_list)"
   ]
  },
  {
   "cell_type": "markdown",
   "metadata": {},
   "source": [
    "---\n",
    "#### Causal Mechanism Assignment\n",
    "\n",
    "**Structural Causal Model (SCM)** \n",
    "\n",
    "limits mechanisms to deterministic functional causal models of the form $X_i = f_i(\\text{PA}_i, N_i)$, where $PA_i$ represents parent nodes and $N_i$ denotes unobserved noise.\n",
    "\n",
    "While $N_i$ is unobserved during model fitting, it can be used as input when provided.\n",
    "\n",
    "**Root Nodes**\n",
    "- **Empirical Distribution**: Random sampling from provided data\n",
    "\n",
    "**Non-Root Nodes**\n",
    "\n",
    "1. **Continuous Data - Additive Noise Models (ADM)**\n",
    "   - $X_i = f(PA_i) + N_i$\n",
    "   - Selection: Minimizing mean squared error\n",
    "\n",
    "2. **Discrete Data - Discrete ADM**\n",
    "   - Like continuous ADM, but f returns discrete values\n",
    "   - Evaluation: Mean Squared Error (MSE)\n",
    "\n",
    "3. **Categorical Data - Classifier-based Model**\n",
    "   - $X_i = f(PA_i, N_i)$, where $N_i$ ~ U[0,1]\n",
    "   - Selection: Optimizing F1 score\n",
    "\n",
    "\n",
    "[Estimating Causal Effect Using GCM](https://www.pywhy.org/dowhy/v0.11.1/user_guide/causal_tasks/estimating_causal_effects/effect_estimation_with_gcm.html)"
   ]
  },
  {
   "cell_type": "code",
   "execution_count": 6,
   "metadata": {},
   "outputs": [
    {
     "name": "stdout",
     "output_type": "stream",
     "text": [
      "discrete||Rating\n",
      "categorical||Product_category_encoded\n",
      "continuous||freight_value\n",
      "categorical||is_delivery_late\n"
     ]
    },
    {
     "name": "stderr",
     "output_type": "stream",
     "text": [
      "Fitting causal mechanism of node Rating:   0%|          | 0/6 [00:00<?, ?it/s]"
     ]
    },
    {
     "name": "stderr",
     "output_type": "stream",
     "text": [
      "Fitting causal mechanism of node is_delivery_late: 100%|██████████| 6/6 [00:11<00:00,  1.87s/it]        \n"
     ]
    }
   ],
   "source": [
    "rng = np.random.default_rng()\n",
    "causal_model = gcm.StructuralCausalModel(G)\n",
    "\n",
    "for node in G.nodes:\n",
    "\n",
    "    # grabbing node's parents if any\n",
    "    parents = set(G.predecessors(node))\n",
    "\n",
    "    # if node is a root\n",
    "    if len(parents) == 0:\n",
    "        random_mean = rng.normal()\n",
    "        random_scale = abs(rng.normal())\n",
    "        emp_dist = gcm.ScipyDistribution(stats.norm, loc=random_mean, scale=random_scale)\n",
    "        causal_model.set_causal_mechanism(node=node, mechanism=emp_dist)\n",
    "\n",
    "    else:\n",
    "        node_type = mapping_dict[node]\n",
    "        if node_type == 'discrete':\n",
    "            print(node_type + \"||\" + node)\n",
    "            causal_model.set_causal_mechanism(node, gcm.AdditiveNoiseModel(prediction_model=gcm.ml.create_hist_gradient_boost_regressor()))\n",
    "        elif node_type == 'categorical':\n",
    "            print(node_type + \"||\" + node)\n",
    "            causal_model.set_causal_mechanism(node, gcm.AdditiveNoiseModel(prediction_model=gcm.ml.create_hist_gradient_boost_classifier())) \n",
    "        else:\n",
    "            print(node_type + \"||\" + node)\n",
    "            causal_model.set_causal_mechanism(node, gcm.AdditiveNoiseModel(prediction_model=gcm.ml.create_linear_regressor())) \n",
    "\n",
    "gcm.fit(causal_model, df)\n"
   ]
  },
  {
   "cell_type": "code",
   "execution_count": 11,
   "metadata": {},
   "outputs": [],
   "source": [
    "sample_mean_list = []\n",
    "num_iter = 100\n",
    "\n",
    "for i in range(num_iter):\n",
    "    random_sample = gcm.draw_samples(causal_model=causal_model, num_samples=100000)\n",
    "    treatment = random_sample[random_sample['is_delivery_late'] == 1]['Rating'].mean()\n",
    "    control = random_sample[random_sample['is_delivery_late'] == 0]['Rating'].mean()\n",
    "    ate = treatment - control\n",
    "    sample_mean_list.append(ate)\n",
    "\n",
    "plt.style.use('ggplot')\n",
    "plt.hist(sample_mean_list)\n",
    "plt.axvline(np.mean(sample_mean_list), linestyle='dashed', color='blue', label=f'ATE: {round(np.mean(sample_mean_list),2)}')\n",
    "plt.xlabel(\"ATE\")\n",
    "plt.ylabel(\"Frequency\")\n",
    "plt.legend()\n",
    "plt.show()"
   ]
  },
  {
   "cell_type": "code",
   "execution_count": 12,
   "metadata": {},
   "outputs": [
    {
     "data": {
      "image/png": "[encoded data removed]",
      "text/plain": [
       "<Figure size 640x480 with 1 Axes>"
      ]
     },
     "metadata": {},
     "output_type": "display_data"
    }
   ],
   "source": [
    "plt.style.use('ggplot')\n",
    "plt.hist(sample_mean_list)\n",
    "plt.axvline(np.mean(sample_mean_list), linestyle='dashed', color='blue', label=f'ATE: {round(np.mean(sample_mean_list),2)}')\n",
    "plt.xlabel(\"ATE\")\n",
    "plt.ylabel(\"Frequency\")\n",
    "plt.legend()\n",
    "plt.show()"
   ]
  },
  {
   "cell_type": "markdown",
   "metadata": {},
   "source": [
    "### Quantifying Intrinsic Causal Influence"
   ]
  },
  {
   "cell_type": "code",
   "execution_count": 21,
   "metadata": {},
   "outputs": [
    {
     "name": "stderr",
     "output_type": "stream",
     "text": [
      "Evaluate set function: 62it [00:05, 12.15it/s]\n"
     ]
    }
   ],
   "source": [
    "iccs_late_deliveries = gcm.intrinsic_causal_influence(causal_model=causal_model, \n",
    "                               target_node='Rating',\n",
    "                               num_training_samples=10000,\n",
    "                               num_samples_randomization=100,\n",
    "                               shapley_config=ShapleyConfig(approximation_method=ShapleyApproximationMethods.PERMUTATION, num_permutations=100)\n",
    "                               )"
   ]
  },
  {
   "cell_type": "code",
   "execution_count": 22,
   "metadata": {},
   "outputs": [
    {
     "data": {
      "image/png": "[encoded data removed]",
      "text/plain": [
       "<Figure size 1000x600 with 1 Axes>"
      ]
     },
     "metadata": {},
     "output_type": "display_data"
    }
   ],
   "source": [
    "def convert_to_percentage(value_dictionary):\n",
    "    total_absolute_sum = np.sum([abs(v) for v in value_dictionary.values()])\n",
    "    return {k: abs(v) / total_absolute_sum * 100 for k, v in value_dictionary.items()}\n",
    "\n",
    "plt.figure(figsize=(10,6))\n",
    "plt.bar(list(convert_to_percentage(iccs_late_deliveries).keys())[:-1], list(convert_to_percentage(iccs_late_deliveries).values())[:-1], color='#FF4162')\n",
    "plt.ylabel(\"Variance contribution in %\")\n",
    "plt.xticks(rotation=45)\n",
    "plt.show()"
   ]
  },
  {
   "cell_type": "code",
   "execution_count": null,
   "metadata": {},
   "outputs": [],
   "source": []
  },
  {
   "cell_type": "markdown",
   "metadata": {},
   "source": [
    "***Fine-tuning***"
   ]
  },
  {
   "cell_type": "markdown",
   "metadata": {},
   "source": [
    "is_late_delivery = f(Product Category, Freight Value, Season) + N"
   ]
  },
  {
   "cell_type": "code",
   "execution_count": 16,
   "metadata": {},
   "outputs": [
    {
     "name": "stdout",
     "output_type": "stream",
     "text": [
      "Fitting 3 folds for each of 32 candidates, totalling 96 fits\n"
     ]
    },
    {
     "name": "stdout",
     "output_type": "stream",
     "text": [
      "[CV 2/3] END max_depth=20, min_samples_leaf=2, min_samples_split=2, n_estimators=50;, score=0.238 total time=   1.4s\n",
      "[CV 3/3] END max_depth=20, min_samples_leaf=2, min_samples_split=2, n_estimators=50;, score=0.242 total time=   1.4s\n",
      "[CV 1/3] END max_depth=20, min_samples_leaf=2, min_samples_split=2, n_estimators=50;, score=0.242 total time=   1.6s\n",
      "[CV 2/3] END max_depth=20, min_samples_leaf=2, min_samples_split=2, n_estimators=100;, score=0.246 total time=   2.8s\n",
      "[CV 1/3] END max_depth=20, min_samples_leaf=2, min_samples_split=5, n_estimators=50;, score=0.246 total time=   1.3s\n",
      "[CV 1/3] END max_depth=20, min_samples_leaf=2, min_samples_split=2, n_estimators=100;, score=0.248 total time=   3.0s\n",
      "[CV 3/3] END max_depth=20, min_samples_leaf=2, min_samples_split=2, n_estimators=100;, score=0.247 total time=   3.0s\n",
      "[CV 2/3] END max_depth=20, min_samples_leaf=2, min_samples_split=5, n_estimators=50;, score=0.240 total time=   1.6s\n",
      "[CV 3/3] END max_depth=20, min_samples_leaf=2, min_samples_split=5, n_estimators=50;, score=0.249 total time=   1.5s\n",
      "[CV 2/3] END max_depth=20, min_samples_leaf=2, min_samples_split=2, n_estimators=200;, score=0.244 total time=   5.6s\n",
      "[CV 1/3] END max_depth=20, min_samples_leaf=2, min_samples_split=2, n_estimators=200;, score=0.245 total time=   5.7s\n",
      "[CV 3/3] END max_depth=20, min_samples_leaf=2, min_samples_split=2, n_estimators=200;, score=0.246 total time=   5.7s\n",
      "[CV 1/3] END max_depth=20, min_samples_leaf=2, min_samples_split=5, n_estimators=100;, score=0.250 total time=   2.9s\n",
      "[CV 2/3] END max_depth=20, min_samples_leaf=2, min_samples_split=5, n_estimators=100;, score=0.242 total time=   2.8s\n",
      "[CV 3/3] END max_depth=20, min_samples_leaf=2, min_samples_split=5, n_estimators=100;, score=0.250 total time=   2.6s\n",
      "[CV 1/3] END max_depth=20, min_samples_leaf=2, min_samples_split=2, n_estimators=300;, score=0.250 total time=   8.2s\n",
      "[CV 1/3] END max_depth=20, min_samples_leaf=4, min_samples_split=2, n_estimators=50;, score=0.253 total time=   1.3s\n",
      "[CV 2/3] END max_depth=20, min_samples_leaf=4, min_samples_split=2, n_estimators=50;, score=0.237 total time=   1.3s\n",
      "[CV 3/3] END max_depth=20, min_samples_leaf=2, min_samples_split=2, n_estimators=300;, score=0.250 total time=   8.3s\n",
      "[CV 1/3] END max_depth=20, min_samples_leaf=2, min_samples_split=5, n_estimators=200;, score=0.248 total time=   5.3s\n",
      "[CV 2/3] END max_depth=20, min_samples_leaf=2, min_samples_split=2, n_estimators=300;, score=0.245 total time=   8.4s\n",
      "[CV 3/3] END max_depth=20, min_samples_leaf=4, min_samples_split=2, n_estimators=50;, score=0.243 total time=   1.4s\n",
      "[CV 2/3] END max_depth=20, min_samples_leaf=2, min_samples_split=5, n_estimators=200;, score=0.247 total time=   5.2s\n",
      "[CV 3/3] END max_depth=20, min_samples_leaf=2, min_samples_split=5, n_estimators=200;, score=0.247 total time=   5.4s\n",
      "[CV 1/3] END max_depth=20, min_samples_leaf=4, min_samples_split=2, n_estimators=100;, score=0.250 total time=   2.4s\n",
      "[CV 2/3] END max_depth=20, min_samples_leaf=4, min_samples_split=2, n_estimators=100;, score=0.242 total time=   2.5s\n",
      "[CV 3/3] END max_depth=20, min_samples_leaf=4, min_samples_split=2, n_estimators=100;, score=0.237 total time=   2.6s\n",
      "[CV 1/3] END max_depth=20, min_samples_leaf=2, min_samples_split=5, n_estimators=300;, score=0.251 total time=   7.7s\n",
      "[CV 1/3] END max_depth=20, min_samples_leaf=4, min_samples_split=5, n_estimators=50;, score=0.248 total time=   1.3s\n",
      "[CV 2/3] END max_depth=20, min_samples_leaf=2, min_samples_split=5, n_estimators=300;, score=0.244 total time=   8.0s\n",
      "[CV 3/3] END max_depth=20, min_samples_leaf=2, min_samples_split=5, n_estimators=300;, score=0.251 total time=   8.1s\n",
      "[CV 1/3] END max_depth=20, min_samples_leaf=4, min_samples_split=2, n_estimators=200;, score=0.251 total time=   5.0s\n",
      "[CV 2/3] END max_depth=20, min_samples_leaf=4, min_samples_split=5, n_estimators=50;, score=0.230 total time=   1.3s\n",
      "[CV 3/3] END max_depth=20, min_samples_leaf=4, min_samples_split=5, n_estimators=50;, score=0.244 total time=   1.3s\n",
      "[CV 2/3] END max_depth=20, min_samples_leaf=4, min_samples_split=2, n_estimators=200;, score=0.243 total time=   5.1s\n",
      "[CV 3/3] END max_depth=20, min_samples_leaf=4, min_samples_split=2, n_estimators=200;, score=0.245 total time=   5.2s\n",
      "[CV 1/3] END max_depth=20, min_samples_leaf=4, min_samples_split=5, n_estimators=100;, score=0.249 total time=   2.5s\n",
      "[CV 2/3] END max_depth=20, min_samples_leaf=4, min_samples_split=5, n_estimators=100;, score=0.242 total time=   2.5s\n",
      "[CV 3/3] END max_depth=20, min_samples_leaf=4, min_samples_split=5, n_estimators=100;, score=0.245 total time=   2.5s\n",
      "[CV 1/3] END max_depth=20, min_samples_leaf=4, min_samples_split=2, n_estimators=300;, score=0.255 total time=   7.5s\n",
      "[CV 1/3] END max_depth=30, min_samples_leaf=2, min_samples_split=2, n_estimators=50;, score=0.240 total time=   1.3s\n",
      "[CV 3/3] END max_depth=20, min_samples_leaf=4, min_samples_split=2, n_estimators=300;, score=0.240 total time=   7.4s\n",
      "[CV 1/3] END max_depth=20, min_samples_leaf=4, min_samples_split=5, n_estimators=200;, score=0.252 total time=   5.1s\n",
      "[CV 2/3] END max_depth=20, min_samples_leaf=4, min_samples_split=2, n_estimators=300;, score=0.238 total time=   7.9s\n",
      "[CV 2/3] END max_depth=20, min_samples_leaf=4, min_samples_split=5, n_estimators=200;, score=0.241 total time=   5.1s\n",
      "[CV 2/3] END max_depth=30, min_samples_leaf=2, min_samples_split=2, n_estimators=50;, score=0.237 total time=   1.5s\n",
      "[CV 3/3] END max_depth=20, min_samples_leaf=4, min_samples_split=5, n_estimators=200;, score=0.246 total time=   5.2s\n",
      "[CV 3/3] END max_depth=30, min_samples_leaf=2, min_samples_split=2, n_estimators=50;, score=0.246 total time=   1.5s\n",
      "[CV 1/3] END max_depth=30, min_samples_leaf=2, min_samples_split=2, n_estimators=100;, score=0.242 total time=   3.1s\n",
      "[CV 2/3] END max_depth=30, min_samples_leaf=2, min_samples_split=2, n_estimators=100;, score=0.241 total time=   3.1s\n",
      "[CV 3/3] END max_depth=30, min_samples_leaf=2, min_samples_split=2, n_estimators=100;, score=0.249 total time=   3.1s\n",
      "[CV 1/3] END max_depth=20, min_samples_leaf=4, min_samples_split=5, n_estimators=300;, score=0.252 total time=   7.9s\n",
      "[CV 1/3] END max_depth=30, min_samples_leaf=2, min_samples_split=5, n_estimators=50;, score=0.238 total time=   1.4s\n",
      "[CV 2/3] END max_depth=20, min_samples_leaf=4, min_samples_split=5, n_estimators=300;, score=0.239 total time=   8.2s\n",
      "[CV 3/3] END max_depth=20, min_samples_leaf=4, min_samples_split=5, n_estimators=300;, score=0.244 total time=   8.2s\n",
      "[CV 2/3] END max_depth=30, min_samples_leaf=2, min_samples_split=5, n_estimators=50;, score=0.235 total time=   1.3s\n",
      "[CV 3/3] END max_depth=30, min_samples_leaf=2, min_samples_split=5, n_estimators=50;, score=0.242 total time=   1.3s\n",
      "[CV 2/3] END max_depth=30, min_samples_leaf=2, min_samples_split=2, n_estimators=200;, score=0.243 total time=   5.7s\n",
      "[CV 3/3] END max_depth=30, min_samples_leaf=2, min_samples_split=2, n_estimators=200;, score=0.250 total time=   5.7s\n",
      "[CV 1/3] END max_depth=30, min_samples_leaf=2, min_samples_split=2, n_estimators=200;, score=0.246 total time=   5.9s\n",
      "[CV 1/3] END max_depth=30, min_samples_leaf=2, min_samples_split=5, n_estimators=100;, score=0.243 total time=   2.8s\n",
      "[CV 2/3] END max_depth=30, min_samples_leaf=2, min_samples_split=5, n_estimators=100;, score=0.243 total time=   2.8s\n",
      "[CV 3/3] END max_depth=30, min_samples_leaf=2, min_samples_split=5, n_estimators=100;, score=0.250 total time=   3.1s\n",
      "[CV 1/3] END max_depth=30, min_samples_leaf=2, min_samples_split=2, n_estimators=300;, score=0.245 total time=   9.1s\n",
      "[CV 1/3] END max_depth=30, min_samples_leaf=4, min_samples_split=2, n_estimators=50;, score=0.244 total time=   1.5s\n",
      "[CV 2/3] END max_depth=30, min_samples_leaf=4, min_samples_split=2, n_estimators=50;, score=0.234 total time=   1.4s\n",
      "[CV 3/3] END max_depth=30, min_samples_leaf=4, min_samples_split=2, n_estimators=50;, score=0.243 total time=   1.5s\n",
      "[CV 2/3] END max_depth=30, min_samples_leaf=2, min_samples_split=2, n_estimators=300;, score=0.242 total time=   9.0s\n",
      "[CV 3/3] END max_depth=30, min_samples_leaf=2, min_samples_split=5, n_estimators=200;, score=0.247 total time=   6.2s\n",
      "[CV 3/3] END max_depth=30, min_samples_leaf=2, min_samples_split=2, n_estimators=300;, score=0.248 total time=   9.1s\n",
      "[CV 1/3] END max_depth=30, min_samples_leaf=2, min_samples_split=5, n_estimators=200;, score=0.242 total time=   6.3s\n",
      "[CV 2/3] END max_depth=30, min_samples_leaf=2, min_samples_split=5, n_estimators=200;, score=0.245 total time=   6.3s\n",
      "[CV 1/3] END max_depth=30, min_samples_leaf=4, min_samples_split=2, n_estimators=100;, score=0.244 total time=   3.2s\n",
      "[CV 2/3] END max_depth=30, min_samples_leaf=4, min_samples_split=2, n_estimators=100;, score=0.240 total time=   3.1s\n",
      "[CV 3/3] END max_depth=30, min_samples_leaf=4, min_samples_split=2, n_estimators=100;, score=0.244 total time=   3.1s\n",
      "[CV 1/3] END max_depth=30, min_samples_leaf=2, min_samples_split=5, n_estimators=300;, score=0.245 total time=   9.4s\n",
      "[CV 1/3] END max_depth=30, min_samples_leaf=4, min_samples_split=5, n_estimators=50;, score=0.246 total time=   1.5s\n",
      "[CV 2/3] END max_depth=30, min_samples_leaf=4, min_samples_split=5, n_estimators=50;, score=0.235 total time=   1.5s\n",
      "[CV 2/3] END max_depth=30, min_samples_leaf=2, min_samples_split=5, n_estimators=300;, score=0.242 total time=   9.5s\n",
      "[CV 3/3] END max_depth=30, min_samples_leaf=2, min_samples_split=5, n_estimators=300;, score=0.243 total time=   9.5s\n",
      "[CV 3/3] END max_depth=30, min_samples_leaf=4, min_samples_split=5, n_estimators=50;, score=0.240 total time=   1.6s\n",
      "[CV 3/3] END max_depth=30, min_samples_leaf=4, min_samples_split=2, n_estimators=200;, score=0.242 total time=   6.0s\n",
      "[CV 1/3] END max_depth=30, min_samples_leaf=4, min_samples_split=2, n_estimators=200;, score=0.247 total time=   6.1s\n",
      "[CV 2/3] END max_depth=30, min_samples_leaf=4, min_samples_split=2, n_estimators=200;, score=0.243 total time=   6.2s\n",
      "[CV 1/3] END max_depth=30, min_samples_leaf=4, min_samples_split=5, n_estimators=100;, score=0.248 total time=   2.7s\n",
      "[CV 2/3] END max_depth=30, min_samples_leaf=4, min_samples_split=5, n_estimators=100;, score=0.242 total time=   2.6s\n",
      "[CV 3/3] END max_depth=30, min_samples_leaf=4, min_samples_split=5, n_estimators=100;, score=0.242 total time=   2.8s\n",
      "[CV 1/3] END max_depth=30, min_samples_leaf=4, min_samples_split=2, n_estimators=300;, score=0.249 total time=   8.6s\n",
      "[CV 2/3] END max_depth=30, min_samples_leaf=4, min_samples_split=2, n_estimators=300;, score=0.246 total time=   8.0s\n",
      "[CV 3/3] END max_depth=30, min_samples_leaf=4, min_samples_split=2, n_estimators=300;, score=0.245 total time=   8.0s\n",
      "[CV 1/3] END max_depth=30, min_samples_leaf=4, min_samples_split=5, n_estimators=200;, score=0.246 total time=   4.8s\n",
      "[CV 3/3] END max_depth=30, min_samples_leaf=4, min_samples_split=5, n_estimators=200;, score=0.242 total time=   4.8s\n",
      "[CV 2/3] END max_depth=30, min_samples_leaf=4, min_samples_split=5, n_estimators=200;, score=0.248 total time=   4.9s\n",
      "[CV 1/3] END max_depth=30, min_samples_leaf=4, min_samples_split=5, n_estimators=300;, score=0.249 total time=   6.7s\n",
      "[CV 2/3] END max_depth=30, min_samples_leaf=4, min_samples_split=5, n_estimators=300;, score=0.242 total time=   6.4s\n",
      "[CV 3/3] END max_depth=30, min_samples_leaf=4, min_samples_split=5, n_estimators=300;, score=0.242 total time=   6.5s\n",
      "F1:  0.25514074665601916\n",
      "              precision    recall  f1-score   support\n",
      "\n",
      "           0       0.95      0.90      0.93     26799\n",
      "           1       0.20      0.36      0.26      1796\n",
      "\n",
      "    accuracy                           0.87     28595\n",
      "   macro avg       0.58      0.63      0.59     28595\n",
      "weighted avg       0.91      0.87      0.89     28595\n",
      "\n"
     ]
    }
   ],
   "source": [
    "def fine_tuned_random_forest_model(target, features, df):\n",
    "\n",
    "    X = df[features]\n",
    "    y = df[target]\n",
    "\n",
    "    X_train_val, X_test, y_train_val, y_test = train_test_split(X, y, test_size=0.2)\n",
    "    X_train, X_val, y_train, y_val = train_test_split(X_train_val, y_train_val, test_size=0.3)\n",
    "\n",
    "    rf_model = RandomForestClassifier(class_weight='balanced')\n",
    "\n",
    "    param_grid = {\n",
    "        'n_estimators': [50, 100, 200, 300],\n",
    "        'max_depth': [20, 30],\n",
    "        'min_samples_split': [2, 5],\n",
    "        'min_samples_leaf': [2, 4],\n",
    "    }\n",
    "\n",
    "    stratified_kfold = StratifiedKFold(n_splits=3)\n",
    "    grid_search = GridSearchCV(estimator=rf_model, \n",
    "                            param_grid=param_grid, \n",
    "                            scoring='f1', \n",
    "                            cv=stratified_kfold,  \n",
    "                            n_jobs=-1,  \n",
    "                            verbose=3)  \n",
    "\n",
    "    grid_search.fit(X_train, y_train)\n",
    "\n",
    "    best_model = grid_search.best_estimator_\n",
    "\n",
    "    # Make predictions on the validation set\n",
    "    y_val_pred = best_model.predict(X_val)\n",
    "\n",
    "    print(\"F1: \", f1_score(y_val, y_val_pred))\n",
    "    print(classification_report(y_val, y_val_pred))\n",
    "\n",
    "    return grid_search.best_estimator_\n",
    "\n",
    "\n",
    "rf_model = fine_tuned_random_forest_model(target='is_delivery_late', features=['Product_category_encoded', 'freight_value', 'season'], df=df)"
   ]
  },
  {
   "cell_type": "code",
   "execution_count": 18,
   "metadata": {},
   "outputs": [],
   "source": [
    "bet_params = rf_model.get_params()"
   ]
  },
  {
   "cell_type": "code",
   "execution_count": 19,
   "metadata": {},
   "outputs": [
    {
     "name": "stdout",
     "output_type": "stream",
     "text": [
      "discrete||Rating\n",
      "categorical||Product_category_encoded\n",
      "continuous||freight_value\n",
      "categorical||is_delivery_late\n",
      "Fitting the causal model\n",
      "DataFrame columns: Index(['order_id', 'payment_value', 'Rating', 'region', 'Product_weight_kg',\n",
      "       'distance_km', 'Product_category', 'Product_size', 'No_photos',\n",
      "       'revenue', 'season', 'is_delivery_late', 'Product_price.1',\n",
      "       'freight_value', 'Product_category_encoded', 'late_delivery_in_days',\n",
      "       'order_purchase_timestamp', 'Product_price'],\n",
      "      dtype='object')\n",
      "Graph nodes: ['Rating', 'Product_category_encoded', 'freight_value', 'distance_km', 'season', 'is_delivery_late']\n"
     ]
    },
    {
     "name": "stderr",
     "output_type": "stream",
     "text": [
      "Fitting causal mechanism of node is_delivery_late: 100%|██████████| 6/6 [00:27<00:00,  4.56s/it]        \n"
     ]
    }
   ],
   "source": [
    "rng = np.random.default_rng()\n",
    "causal_model = gcm.StructuralCausalModel(G)\n",
    "\n",
    "for node in G.nodes:\n",
    "\n",
    "    # grabbing node's parents if any\n",
    "    parents = set(G.predecessors(node))\n",
    "\n",
    "    # if node is a root\n",
    "    if len(parents) == 0:\n",
    "        random_mean = rng.normal()\n",
    "        random_scale = abs(rng.normal())\n",
    "        emp_dist = gcm.ScipyDistribution(stats.norm, loc=random_mean, scale=random_scale)\n",
    "        causal_model.set_causal_mechanism(node=node, mechanism=emp_dist)\n",
    "\n",
    "    else:\n",
    "        node_type = mapping_dict[node]\n",
    "        if node_type == 'discrete':\n",
    "            print(node_type + \"||\" + node)\n",
    "            causal_model.set_causal_mechanism(node, gcm.AdditiveNoiseModel(prediction_model=gcm.ml.create_hist_gradient_boost_regressor()))\n",
    "\n",
    "        elif node == 'is_delivery_late':\n",
    "            print(node_type + \"||\" + node)\n",
    "            causal_model.set_causal_mechanism(node, gcm.AdditiveNoiseModel(prediction_model=gcm.ml.create_random_forest_classifier(**bet_params))) \n",
    "\n",
    "        elif node_type == 'categorical' and node != 'is_delivery_late':\n",
    "            print(node_type + \"||\" + node)\n",
    "            causal_model.set_causal_mechanism(node, gcm.AdditiveNoiseModel(prediction_model=gcm.ml.create_hist_gradient_boost_classifier())) \n",
    "\n",
    "        else:\n",
    "            print(node_type + \"||\" + node)\n",
    "            causal_model.set_causal_mechanism(node, gcm.AdditiveNoiseModel(prediction_model=gcm.ml.create_linear_regressor())) \n",
    "\n",
    "\n",
    "# Add debugging before fitting\n",
    "print(\"Fitting the causal model\")\n",
    "print(\"DataFrame columns:\", df.columns)\n",
    "print(\"Graph nodes:\", list(G.nodes))\n",
    "\n",
    "gcm.fit(causal_model, df)"
   ]
  },
  {
   "cell_type": "code",
   "execution_count": 20,
   "metadata": {},
   "outputs": [
    {
     "data": {
      "image/png": "[encoded data removed]",
      "text/plain": [
       "<Figure size 640x480 with 1 Axes>"
      ]
     },
     "metadata": {},
     "output_type": "display_data"
    }
   ],
   "source": [
    "sample_mean_list = []\n",
    "num_iter = 100\n",
    "\n",
    "for i in range(num_iter):\n",
    "    random_sample = gcm.draw_samples(causal_model=causal_model, num_samples=100000)\n",
    "    treatment = random_sample[random_sample['is_delivery_late'] == 1]['Rating'].mean()\n",
    "    control = random_sample[random_sample['is_delivery_late'] == 0]['Rating'].mean()\n",
    "    ate = treatment - control\n",
    "    sample_mean_list.append(ate)\n",
    "\n",
    "plt.style.use('ggplot')\n",
    "plt.hist(sample_mean_list)\n",
    "plt.axvline(np.mean(sample_mean_list), linestyle='dashed', color='blue', label=f'ATE: {round(np.mean(sample_mean_list),2)}')\n",
    "plt.xlabel(\"ATE\")\n",
    "plt.ylabel(\"Frequency\")\n",
    "plt.legend()\n",
    "plt.show()"
   ]
  },
  {
   "cell_type": "code",
   "execution_count": null,
   "metadata": {},
   "outputs": [],
   "source": []
  }
 ],
 "metadata": {
  "kernelspec": {
   "display_name": "venv",
   "language": "python",
   "name": "python3"
  },
  "language_info": {
   "codemirror_mode": {
    "name": "ipython",
    "version": 3
   },
   "file_extension": ".py",
   "mimetype": "text/x-python",
   "name": "python",
   "nbconvert_exporter": "python",
   "pygments_lexer": "ipython3",
   "version": "3.9.6"
  }
 },
 "nbformat": 4,
 "nbformat_minor": 2
}
