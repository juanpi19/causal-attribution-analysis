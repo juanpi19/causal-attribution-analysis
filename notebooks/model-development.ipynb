{
 "cells": [
  {
   "cell_type": "code",
   "execution_count": 87,
   "metadata": {},
   "outputs": [],
   "source": [
    "import sys\n",
    "\n",
    "import pandas as pd # type: ignore\n",
    "import numpy as np # type: ignore\n",
    "\n",
    "import matplotlib.pyplot as plt # type: ignore\n",
    "import seaborn as sns # type: ignore\n",
    "\n",
    "\n",
    "import networkx as nx # type: ignore\n",
    "import graphviz # type: ignore\n",
    "\n",
    "import statsmodels.formula.api as smf # type: ignore\n",
    "import statsmodels.api # type: ignore\n",
    "from statsmodels.miscmodels.ordinal_model import OrderedModel # type: ignore\n",
    "\n",
    "from dowhy import CausalModel, gcm # type: ignore\n",
    "\n",
    "from sklearn.linear_model import LogisticRegression # type: ignore\n",
    "from sklearn.neighbors import NearestNeighbors # type: ignore"
   ]
  },
  {
   "cell_type": "code",
   "execution_count": 103,
   "metadata": {},
   "outputs": [],
   "source": [
    "# Clean data\n",
    "df = pd.read_csv(\"../data/processed/data.csv\")"
   ]
  },
  {
   "cell_type": "code",
   "execution_count": 104,
   "metadata": {},
   "outputs": [],
   "source": [
    "# Dealing with missing values for now\n",
    "df.rename(columns={'Product_price': 'revenue'}, inplace=True) \n",
    "df['Product_price'] = df['revenue'] + df['freight_value']\n",
    "df['Product_weight_kg'] = df['Product_weight_kg'].fillna(df['Product_weight_kg'].mean())\n",
    "df['distance_km'] = df['distance_km'].fillna(df['distance_km'].mean())\n",
    "df['Product_size'] = df['Product_size'].fillna(df['Product_size'].mean())\n",
    "df['customer_avg_score'] = df['customer_avg_score'].fillna(df['customer_avg_score'].mean())\n",
    "df['No_photos'] = df['No_photos'].fillna(df['No_photos'].mean())\n",
    "df['Product_price'] = df['Product_price'].fillna(df['Product_price'].mean())\n",
    "df['freight_value'] = df['freight_value'].fillna(df['freight_value'].mean())\n",
    "df['Rating'] = df['Rating'].round()\n",
    "df['Product_category'] = df['Product_category'].fillna(df['Product_category'].mode()[0])\n",
    "df['revenue'] = df['revenue'].fillna(df['revenue'].mean())"
   ]
  },
  {
   "cell_type": "markdown",
   "metadata": {},
   "source": [
    "# Regression \n",
    "confounded"
   ]
  },
  {
   "cell_type": "code",
   "execution_count": 69,
   "metadata": {},
   "outputs": [
    {
     "name": "stdout",
     "output_type": "stream",
     "text": [
      "                            OLS Regression Results                            \n",
      "==============================================================================\n",
      "Dep. Variable:                 Rating   R-squared:                       0.103\n",
      "Model:                            OLS   Adj. R-squared:                  0.103\n",
      "Method:                 Least Squares   F-statistic:                 1.365e+04\n",
      "Date:                Tue, 01 Oct 2024   Prob (F-statistic):               0.00\n",
      "Time:                        22:31:37   Log-Likelihood:            -2.0222e+05\n",
      "No. Observations:              119143   AIC:                         4.044e+05\n",
      "Df Residuals:                  119141   BIC:                         4.045e+05\n",
      "Df Model:                           1                                         \n",
      "Covariance Type:            nonrobust                                         \n",
      "====================================================================================\n",
      "                       coef    std err          t      P>|t|      [0.025      0.975]\n",
      "------------------------------------------------------------------------------------\n",
      "Intercept            4.1318      0.004   1044.861      0.000       4.124       4.140\n",
      "is_delivery_late    -1.8343      0.016   -116.838      0.000      -1.865      -1.804\n",
      "==============================================================================\n",
      "Omnibus:                    19941.030   Durbin-Watson:                   1.441\n",
      "Prob(Omnibus):                  0.000   Jarque-Bera (JB):            31485.157\n",
      "Skew:                          -1.222   Prob(JB):                         0.00\n",
      "Kurtosis:                       3.604   Cond. No.                         4.12\n",
      "==============================================================================\n",
      "\n",
      "Notes:\n",
      "[1] Standard Errors assume that the covariance matrix of the errors is correctly specified.\n"
     ]
    }
   ],
   "source": [
    "formula = 'Rating ~ is_delivery_late'\n",
    "model = smf.ols(formula=formula, data=df)\n",
    "results = model.fit()\n",
    "print(results.summary())\n"
   ]
  },
  {
   "cell_type": "code",
   "execution_count": 70,
   "metadata": {},
   "outputs": [
    {
     "name": "stdout",
     "output_type": "stream",
     "text": [
      "Optimization terminated successfully.\n",
      "         Current function value: 1.193346\n",
      "         Iterations: 19\n",
      "         Function evaluations: 22\n",
      "         Gradient evaluations: 22\n",
      "                             OrderedModel Results                             \n",
      "==============================================================================\n",
      "Dep. Variable:                 Rating   Log-Likelihood:            -1.4218e+05\n",
      "Model:                   OrderedModel   AIC:                         2.844e+05\n",
      "Method:            Maximum Likelihood   BIC:                         2.844e+05\n",
      "Date:                Tue, 01 Oct 2024                                         \n",
      "Time:                        22:31:39                                         \n",
      "No. Observations:              119143                                         \n",
      "Df Residuals:                  119138                                         \n",
      "Df Model:                           1                                         \n",
      "====================================================================================\n",
      "                       coef    std err          z      P>|z|      [0.025      0.975]\n",
      "------------------------------------------------------------------------------------\n",
      "is_delivery_late    -2.2398      0.023    -96.349      0.000      -2.285      -2.194\n",
      "1.0/2.0             -2.1580      0.010   -227.064      0.000      -2.177      -2.139\n",
      "2.0/3.0             -1.1719      0.015    -76.803      0.000      -1.202      -1.142\n",
      "3.0/4.0             -0.5729      0.010    -58.772      0.000      -0.592      -0.554\n",
      "4.0/5.0             -0.0594      0.006     -9.760      0.000      -0.071      -0.047\n",
      "====================================================================================\n"
     ]
    }
   ],
   "source": [
    "# Interpret\n",
    "model = OrderedModel(df['Rating'], df['is_delivery_late'], distr='logit')\n",
    "results = model.fit(method='bfgs')\n",
    "print(results.summary())\n"
   ]
  },
  {
   "cell_type": "markdown",
   "metadata": {},
   "source": [
    "\\begin{align*}\n",
    "    \\text{logit}(P(Y \\leq 1.0/2.0)) &= -2.1580 - 2.2398x_1 \\\\\n",
    "    \\text{logit}(P(Y \\leq 2.0/3.0)) &= -1.1719 -2.2398x_1\n",
    "\\end{align*}\n"
   ]
  },
  {
   "cell_type": "markdown",
   "metadata": {},
   "source": [
    "---\n",
    "# Effect Inference"
   ]
  },
  {
   "cell_type": "markdown",
   "metadata": {},
   "source": [
    "### **DoWhy**: Potential Outcomes"
   ]
  },
  {
   "cell_type": "code",
   "execution_count": 111,
   "metadata": {},
   "outputs": [],
   "source": [
    "# nodes\n",
    "nodes_list = [\n",
    "'Rating',\n",
    "'Product_category_encoded',\n",
    "'freight_value',\n",
    "'distance_km',\n",
    "'season',\n",
    "'is_delivery_late'\n",
    "]\n",
    "# edges\n",
    "edges_list = [\n",
    "    ('season', 'Rating'),\n",
    "    ('season', 'is_delivery_late'),\n",
    "    ('season', 'Product_category_encoded'),\n",
    "    ('is_delivery_late', 'Rating'),\n",
    "    ('Product_category_encoded', 'is_delivery_late'),\n",
    "    ('Product_category_encoded', 'Rating'),\n",
    "    ('Product_category_encoded', 'freight_value'),\n",
    "    ('Product_category_encoded', 'Rating'),\n",
    "    ('freight_value', 'is_delivery_late'),\n",
    "    ('freight_value', 'Rating'),\n",
    "    ('distance_km', 'freight_value'),\n",
    "    ('distance_km', 'Rating'),\n",
    "]\n",
    "\n",
    "# Graph\n",
    "G = nx.DiGraph()\n",
    "G.add_nodes_from(nodes_list)\n",
    "G.add_edges_from(edges_list)"
   ]
  },
  {
   "cell_type": "code",
   "execution_count": 65,
   "metadata": {},
   "outputs": [],
   "source": [
    "methods_dict = {\n",
    "    \"Propensity Score Matching\": \"backdoor.propensity_score_matching\",\n",
    "    \"Propensity Score Stratification\": \"backdoor.propensity_score_stratification\",\n",
    "    \"Propensity Score-based Inverse Weighting\": \"backdoor.propensity_score_weighting\",\n",
    "    \"Linear Regression\": \"backdoor.linear_regression\",\n",
    "    \"Generalized Linear Models\": \"backdoor.generalized_linear_model\",\n",
    "    \"Instrumental Variables\": \"iv.instrumental_variable\",\n",
    "    \"Regression Discontinuity\": \"iv.regression_discontinuity\",\n",
    "    \"Two Stage Regression\": \"frontdoor.two_stage_regression\"\n",
    "}\n"
   ]
  },
  {
   "cell_type": "code",
   "execution_count": 114,
   "metadata": {},
   "outputs": [
    {
     "name": "stdout",
     "output_type": "stream",
     "text": [
      "*** Causal Estimate ***\n",
      "\n",
      "## Identified estimand\n",
      "Estimand type: EstimandType.NONPARAMETRIC_ATE\n",
      "\n",
      "### Estimand : 1\n",
      "Estimand name: backdoor\n",
      "Estimand expression:\n",
      "         d                                                                  \n",
      "───────────────────(E[Rating|freight_value,season,Product_category_encoded])\n",
      "d[is_delivery_late]                                                         \n",
      "Estimand assumption 1, Unconfoundedness: If U→{is_delivery_late} and U→Rating then P(Rating|is_delivery_late,freight_value,season,Product_category_encoded,U) = P(Rating|is_delivery_late,freight_value,season,Product_category_encoded)\n",
      "\n",
      "## Realized estimand\n",
      "b: Rating~is_delivery_late+freight_value+season+Product_category_encoded\n",
      "Target units: ate\n",
      "\n",
      "## Estimate\n",
      "Mean value: -1.817011277817044\n",
      "\n"
     ]
    }
   ],
   "source": [
    "# Causal Graph params\n",
    "treatment='is_delivery_late' \n",
    "outcome='Rating'\n",
    "\n",
    "# Estimation params\n",
    "method_name_estimation = 'backdoor.propensity_score_weighting'\n",
    "target_units = 'ate'\n",
    "\n",
    "\n",
    "# Causal Model\n",
    "model = CausalModel(data=df, graph=G, treatment=treatment, outcome=outcome)\n",
    "# causal_graph.replace(\"\\n\", \" \")\n",
    "\n",
    "\n",
    "# Identification\n",
    "identified_estimand = model.identify_effect(proceed_when_unidentifiable=True)\n",
    "\n",
    "# Estimation\n",
    "causal_estimate = model.estimate_effect(identified_estimand, method_name=method_name_estimation, target_units=target_units)\n",
    "print(causal_estimate)"
   ]
  },
  {
   "cell_type": "code",
   "execution_count": 115,
   "metadata": {},
   "outputs": [
    {
     "name": "stderr",
     "output_type": "stream",
     "text": [
      "Refuting Estimates: 100%|\u001b[32m██████████\u001b[0m| 20/20 [00:01<00:00, 15.63it/s]"
     ]
    },
    {
     "name": "stdout",
     "output_type": "stream",
     "text": [
      "Refute: Add a random common cause\n",
      "Estimated effect:-1.817011277817044\n",
      "New effect:-1.8170112778170442\n",
      "p value:0.15865525393145707\n",
      "\n"
     ]
    },
    {
     "name": "stderr",
     "output_type": "stream",
     "text": [
      "\n"
     ]
    }
   ],
   "source": [
    "# Refutation params\n",
    "method_name='random_common_cause'\n",
    "placebo_type='permute'\n",
    "\n",
    "refutation = model.refute_estimate(identified_estimand, causal_estimate, method_name=method_name,\n",
    "                                           placebo_type=placebo_type, num_simulations=20, show_progress_bar=True) \n",
    "\n",
    "print(refutation)"
   ]
  }
 ],
 "metadata": {
  "kernelspec": {
   "display_name": "venv",
   "language": "python",
   "name": "python3"
  },
  "language_info": {
   "codemirror_mode": {
    "name": "ipython",
    "version": 3
   },
   "file_extension": ".py",
   "mimetype": "text/x-python",
   "name": "python",
   "nbconvert_exporter": "python",
   "pygments_lexer": "ipython3",
   "version": "3.9.6"
  }
 },
 "nbformat": 4,
 "nbformat_minor": 2
}
